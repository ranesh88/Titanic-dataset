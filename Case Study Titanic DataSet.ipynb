{
 "cells": [
  {
   "cell_type": "code",
   "execution_count": 1,
   "metadata": {},
   "outputs": [
    {
     "data": {
      "text/html": [
       "<div>\n",
       "<style scoped>\n",
       "    .dataframe tbody tr th:only-of-type {\n",
       "        vertical-align: middle;\n",
       "    }\n",
       "\n",
       "    .dataframe tbody tr th {\n",
       "        vertical-align: top;\n",
       "    }\n",
       "\n",
       "    .dataframe thead th {\n",
       "        text-align: right;\n",
       "    }\n",
       "</style>\n",
       "<table border=\"1\" class=\"dataframe\">\n",
       "  <thead>\n",
       "    <tr style=\"text-align: right;\">\n",
       "      <th></th>\n",
       "      <th>PassengerId</th>\n",
       "      <th>Survived</th>\n",
       "      <th>Pclass</th>\n",
       "      <th>Name</th>\n",
       "      <th>Sex</th>\n",
       "      <th>Age</th>\n",
       "      <th>SibSp</th>\n",
       "      <th>Parch</th>\n",
       "      <th>Ticket</th>\n",
       "      <th>Fare</th>\n",
       "      <th>Cabin</th>\n",
       "      <th>Embarked</th>\n",
       "    </tr>\n",
       "  </thead>\n",
       "  <tbody>\n",
       "    <tr>\n",
       "      <th>0</th>\n",
       "      <td>1</td>\n",
       "      <td>0</td>\n",
       "      <td>3</td>\n",
       "      <td>Braund, Mr. Owen Harris</td>\n",
       "      <td>male</td>\n",
       "      <td>22.0</td>\n",
       "      <td>1</td>\n",
       "      <td>0</td>\n",
       "      <td>A/5 21171</td>\n",
       "      <td>7.2500</td>\n",
       "      <td>NaN</td>\n",
       "      <td>S</td>\n",
       "    </tr>\n",
       "    <tr>\n",
       "      <th>1</th>\n",
       "      <td>2</td>\n",
       "      <td>1</td>\n",
       "      <td>1</td>\n",
       "      <td>Cumings, Mrs. John Bradley (Florence Briggs Th...</td>\n",
       "      <td>female</td>\n",
       "      <td>38.0</td>\n",
       "      <td>1</td>\n",
       "      <td>0</td>\n",
       "      <td>PC 17599</td>\n",
       "      <td>71.2833</td>\n",
       "      <td>C85</td>\n",
       "      <td>C</td>\n",
       "    </tr>\n",
       "    <tr>\n",
       "      <th>2</th>\n",
       "      <td>3</td>\n",
       "      <td>1</td>\n",
       "      <td>3</td>\n",
       "      <td>Heikkinen, Miss. Laina</td>\n",
       "      <td>female</td>\n",
       "      <td>26.0</td>\n",
       "      <td>0</td>\n",
       "      <td>0</td>\n",
       "      <td>STON/O2. 3101282</td>\n",
       "      <td>7.9250</td>\n",
       "      <td>NaN</td>\n",
       "      <td>S</td>\n",
       "    </tr>\n",
       "    <tr>\n",
       "      <th>3</th>\n",
       "      <td>4</td>\n",
       "      <td>1</td>\n",
       "      <td>1</td>\n",
       "      <td>Futrelle, Mrs. Jacques Heath (Lily May Peel)</td>\n",
       "      <td>female</td>\n",
       "      <td>35.0</td>\n",
       "      <td>1</td>\n",
       "      <td>0</td>\n",
       "      <td>113803</td>\n",
       "      <td>53.1000</td>\n",
       "      <td>C123</td>\n",
       "      <td>S</td>\n",
       "    </tr>\n",
       "    <tr>\n",
       "      <th>4</th>\n",
       "      <td>5</td>\n",
       "      <td>0</td>\n",
       "      <td>3</td>\n",
       "      <td>Allen, Mr. William Henry</td>\n",
       "      <td>male</td>\n",
       "      <td>35.0</td>\n",
       "      <td>0</td>\n",
       "      <td>0</td>\n",
       "      <td>373450</td>\n",
       "      <td>8.0500</td>\n",
       "      <td>NaN</td>\n",
       "      <td>S</td>\n",
       "    </tr>\n",
       "  </tbody>\n",
       "</table>\n",
       "</div>"
      ],
      "text/plain": [
       "   PassengerId  Survived  Pclass  \\\n",
       "0            1         0       3   \n",
       "1            2         1       1   \n",
       "2            3         1       3   \n",
       "3            4         1       1   \n",
       "4            5         0       3   \n",
       "\n",
       "                                                Name     Sex   Age  SibSp  \\\n",
       "0                            Braund, Mr. Owen Harris    male  22.0      1   \n",
       "1  Cumings, Mrs. John Bradley (Florence Briggs Th...  female  38.0      1   \n",
       "2                             Heikkinen, Miss. Laina  female  26.0      0   \n",
       "3       Futrelle, Mrs. Jacques Heath (Lily May Peel)  female  35.0      1   \n",
       "4                           Allen, Mr. William Henry    male  35.0      0   \n",
       "\n",
       "   Parch            Ticket     Fare Cabin Embarked  \n",
       "0      0         A/5 21171   7.2500   NaN        S  \n",
       "1      0          PC 17599  71.2833   C85        C  \n",
       "2      0  STON/O2. 3101282   7.9250   NaN        S  \n",
       "3      0            113803  53.1000  C123        S  \n",
       "4      0            373450   8.0500   NaN        S  "
      ]
     },
     "execution_count": 1,
     "metadata": {},
     "output_type": "execute_result"
    }
   ],
   "source": [
    "import pandas as pd\n",
    "import numpy as np\n",
    "import seaborn as sns\n",
    "import scipy.stats as stats\n",
    "sns.set() # setting seaborn default for plots \n",
    "import matplotlib.pyplot as plt\n",
    "%matplotlib inline\n",
    "\n",
    "df=pd.read_csv(\"C:/Users/HCL/ML Regular 11-1 PM/Data/titanic.csv\")\n",
    "df.head(5)"
   ]
  },
  {
   "cell_type": "markdown",
   "metadata": {},
   "source": [
    "# Exploratory Data Analysis"
   ]
  },
  {
   "cell_type": "code",
   "execution_count": 2,
   "metadata": {},
   "outputs": [
    {
     "data": {
      "text/plain": [
       "PassengerId      int64\n",
       "Survived         int64\n",
       "Pclass           int64\n",
       "Name            object\n",
       "Sex             object\n",
       "Age            float64\n",
       "SibSp            int64\n",
       "Parch            int64\n",
       "Ticket          object\n",
       "Fare           float64\n",
       "Cabin           object\n",
       "Embarked        object\n",
       "dtype: object"
      ]
     },
     "execution_count": 2,
     "metadata": {},
     "output_type": "execute_result"
    }
   ],
   "source": [
    "df.dtypes"
   ]
  },
  {
   "cell_type": "code",
   "execution_count": 3,
   "metadata": {},
   "outputs": [
    {
     "data": {
      "text/plain": [
       "(891, 12)"
      ]
     },
     "execution_count": 3,
     "metadata": {},
     "output_type": "execute_result"
    }
   ],
   "source": [
    "#Count number of rows and columns in the dataset\n",
    "df.shape"
   ]
  },
  {
   "cell_type": "code",
   "execution_count": 4,
   "metadata": {},
   "outputs": [
    {
     "name": "stdout",
     "output_type": "stream",
     "text": [
      "<class 'pandas.core.frame.DataFrame'>\n",
      "RangeIndex: 891 entries, 0 to 890\n",
      "Data columns (total 7 columns):\n",
      "PassengerId    891 non-null int64\n",
      "Survived       891 non-null int64\n",
      "Pclass         891 non-null int64\n",
      "Age            714 non-null float64\n",
      "SibSp          891 non-null int64\n",
      "Parch          891 non-null int64\n",
      "Fare           891 non-null float64\n",
      "dtypes: float64(2), int64(5)\n",
      "memory usage: 48.8 KB\n"
     ]
    }
   ],
   "source": [
    "#Number of Numerical feature in dataset\n",
    "\n",
    "df_num=df.select_dtypes([\"int64\",\"float64\"])\n",
    "df_num.info()"
   ]
  },
  {
   "cell_type": "code",
   "execution_count": 5,
   "metadata": {},
   "outputs": [
    {
     "data": {
      "text/html": [
       "<div>\n",
       "<style scoped>\n",
       "    .dataframe tbody tr th:only-of-type {\n",
       "        vertical-align: middle;\n",
       "    }\n",
       "\n",
       "    .dataframe tbody tr th {\n",
       "        vertical-align: top;\n",
       "    }\n",
       "\n",
       "    .dataframe thead th {\n",
       "        text-align: right;\n",
       "    }\n",
       "</style>\n",
       "<table border=\"1\" class=\"dataframe\">\n",
       "  <thead>\n",
       "    <tr style=\"text-align: right;\">\n",
       "      <th></th>\n",
       "      <th>PassengerId</th>\n",
       "      <th>Survived</th>\n",
       "      <th>Pclass</th>\n",
       "      <th>Age</th>\n",
       "      <th>SibSp</th>\n",
       "      <th>Parch</th>\n",
       "      <th>Fare</th>\n",
       "    </tr>\n",
       "  </thead>\n",
       "  <tbody>\n",
       "    <tr>\n",
       "      <th>count</th>\n",
       "      <td>891.000000</td>\n",
       "      <td>891.000000</td>\n",
       "      <td>891.000000</td>\n",
       "      <td>714.000000</td>\n",
       "      <td>891.000000</td>\n",
       "      <td>891.000000</td>\n",
       "      <td>891.000000</td>\n",
       "    </tr>\n",
       "    <tr>\n",
       "      <th>mean</th>\n",
       "      <td>446.000000</td>\n",
       "      <td>0.383838</td>\n",
       "      <td>2.308642</td>\n",
       "      <td>29.699118</td>\n",
       "      <td>0.523008</td>\n",
       "      <td>0.381594</td>\n",
       "      <td>32.204208</td>\n",
       "    </tr>\n",
       "    <tr>\n",
       "      <th>std</th>\n",
       "      <td>257.353842</td>\n",
       "      <td>0.486592</td>\n",
       "      <td>0.836071</td>\n",
       "      <td>14.526497</td>\n",
       "      <td>1.102743</td>\n",
       "      <td>0.806057</td>\n",
       "      <td>49.693429</td>\n",
       "    </tr>\n",
       "    <tr>\n",
       "      <th>min</th>\n",
       "      <td>1.000000</td>\n",
       "      <td>0.000000</td>\n",
       "      <td>1.000000</td>\n",
       "      <td>0.420000</td>\n",
       "      <td>0.000000</td>\n",
       "      <td>0.000000</td>\n",
       "      <td>0.000000</td>\n",
       "    </tr>\n",
       "    <tr>\n",
       "      <th>25%</th>\n",
       "      <td>223.500000</td>\n",
       "      <td>0.000000</td>\n",
       "      <td>2.000000</td>\n",
       "      <td>20.125000</td>\n",
       "      <td>0.000000</td>\n",
       "      <td>0.000000</td>\n",
       "      <td>7.910400</td>\n",
       "    </tr>\n",
       "    <tr>\n",
       "      <th>50%</th>\n",
       "      <td>446.000000</td>\n",
       "      <td>0.000000</td>\n",
       "      <td>3.000000</td>\n",
       "      <td>28.000000</td>\n",
       "      <td>0.000000</td>\n",
       "      <td>0.000000</td>\n",
       "      <td>14.454200</td>\n",
       "    </tr>\n",
       "    <tr>\n",
       "      <th>75%</th>\n",
       "      <td>668.500000</td>\n",
       "      <td>1.000000</td>\n",
       "      <td>3.000000</td>\n",
       "      <td>38.000000</td>\n",
       "      <td>1.000000</td>\n",
       "      <td>0.000000</td>\n",
       "      <td>31.000000</td>\n",
       "    </tr>\n",
       "    <tr>\n",
       "      <th>max</th>\n",
       "      <td>891.000000</td>\n",
       "      <td>1.000000</td>\n",
       "      <td>3.000000</td>\n",
       "      <td>80.000000</td>\n",
       "      <td>8.000000</td>\n",
       "      <td>6.000000</td>\n",
       "      <td>512.329200</td>\n",
       "    </tr>\n",
       "  </tbody>\n",
       "</table>\n",
       "</div>"
      ],
      "text/plain": [
       "       PassengerId    Survived      Pclass         Age       SibSp  \\\n",
       "count   891.000000  891.000000  891.000000  714.000000  891.000000   \n",
       "mean    446.000000    0.383838    2.308642   29.699118    0.523008   \n",
       "std     257.353842    0.486592    0.836071   14.526497    1.102743   \n",
       "min       1.000000    0.000000    1.000000    0.420000    0.000000   \n",
       "25%     223.500000    0.000000    2.000000   20.125000    0.000000   \n",
       "50%     446.000000    0.000000    3.000000   28.000000    0.000000   \n",
       "75%     668.500000    1.000000    3.000000   38.000000    1.000000   \n",
       "max     891.000000    1.000000    3.000000   80.000000    8.000000   \n",
       "\n",
       "            Parch        Fare  \n",
       "count  891.000000  891.000000  \n",
       "mean     0.381594   32.204208  \n",
       "std      0.806057   49.693429  \n",
       "min      0.000000    0.000000  \n",
       "25%      0.000000    7.910400  \n",
       "50%      0.000000   14.454200  \n",
       "75%      0.000000   31.000000  \n",
       "max      6.000000  512.329200  "
      ]
     },
     "execution_count": 5,
     "metadata": {},
     "output_type": "execute_result"
    }
   ],
   "source": [
    "# Get some statistical value from the dataset of Numerical Features\n",
    "df.describe()"
   ]
  },
  {
   "cell_type": "code",
   "execution_count": 6,
   "metadata": {},
   "outputs": [
    {
     "name": "stdout",
     "output_type": "stream",
     "text": [
      "<class 'pandas.core.frame.DataFrame'>\n",
      "RangeIndex: 891 entries, 0 to 890\n",
      "Data columns (total 5 columns):\n",
      "Name        891 non-null object\n",
      "Sex         891 non-null object\n",
      "Ticket      891 non-null object\n",
      "Cabin       204 non-null object\n",
      "Embarked    889 non-null object\n",
      "dtypes: object(5)\n",
      "memory usage: 34.9+ KB\n"
     ]
    }
   ],
   "source": [
    "# Number of categorical feature in data set\n",
    "df_cat=df.select_dtypes([\"object\"])\n",
    "df_cat.info()"
   ]
  },
  {
   "cell_type": "code",
   "execution_count": 7,
   "metadata": {},
   "outputs": [
    {
     "data": {
      "text/plain": [
       "0    549\n",
       "1    342\n",
       "Name: Survived, dtype: int64"
      ]
     },
     "execution_count": 7,
     "metadata": {},
     "output_type": "execute_result"
    }
   ],
   "source": [
    "#Count of number of survivers\n",
    "df['Survived'].value_counts()"
   ]
  },
  {
   "cell_type": "code",
   "execution_count": 8,
   "metadata": {},
   "outputs": [
    {
     "data": {
      "text/plain": [
       "<matplotlib.axes._subplots.AxesSubplot at 0x5037ac8>"
      ]
     },
     "execution_count": 8,
     "metadata": {},
     "output_type": "execute_result"
    },
    {
     "data": {
      "image/png": "[encoded data removed]",
      "text/plain": [
       "<Figure size 432x288 with 1 Axes>"
      ]
     },
     "metadata": {
      "needs_background": "light"
     },
     "output_type": "display_data"
    }
   ],
   "source": [
    "# Visualize count of survivors\n",
    "sns.countplot(df['Survived'])"
   ]
  },
  {
   "cell_type": "code",
   "execution_count": 9,
   "metadata": {},
   "outputs": [],
   "source": [
    "def bar_chart(feature):\n",
    "    survived=df[df['Survived']==1][feature].value_counts()\n",
    "    dead=df[df['Survived']==0][feature].value_counts()\n",
    "    df_titanic=pd.DataFrame([survived,dead])\n",
    "    df_titanic.index=['survived','dead']\n",
    "    df_titanic.plot(kind='bar',stacked='True',figsize=(10,5))"
   ]
  },
  {
   "cell_type": "code",
   "execution_count": 10,
   "metadata": {
    "scrolled": true
   },
   "outputs": [
    {
     "data": {
      "text/plain": [
       "<matplotlib.axes._subplots.AxesSubplot at 0xd7ae080>"
      ]
     },
     "execution_count": 10,
     "metadata": {},
     "output_type": "execute_result"
    },
    {
     "data": {
      "image/png": "[encoded data removed]",
      "text/plain": [
       "<Figure size 432x288 with 1 Axes>"
      ]
     },
     "metadata": {},
     "output_type": "display_data"
    }
   ],
   "source": [
    "sns.set_style(\"whitegrid\")\n",
    "sns.countplot(x='Survived',hue='Sex',data=df,palette='RdBu_r')"
   ]
  },
  {
   "cell_type": "code",
   "execution_count": 11,
   "metadata": {},
   "outputs": [
    {
     "data": {
      "image/png": "[encoded data removed]",
      "text/plain": [
       "<Figure size 720x360 with 1 Axes>"
      ]
     },
     "metadata": {},
     "output_type": "display_data"
    }
   ],
   "source": [
    "bar_chart('Sex')"
   ]
  },
  {
   "cell_type": "code",
   "execution_count": 12,
   "metadata": {},
   "outputs": [
    {
     "data": {
      "text/plain": [
       "<matplotlib.axes._subplots.AxesSubplot at 0xd8a8198>"
      ]
     },
     "execution_count": 12,
     "metadata": {},
     "output_type": "execute_result"
    },
    {
     "data": {
      "image/png": "[encoded data removed]",
      "text/plain": [
       "<Figure size 432x288 with 1 Axes>"
      ]
     },
     "metadata": {},
     "output_type": "display_data"
    }
   ],
   "source": [
    "sns.set_style(\"whitegrid\")\n",
    "sns.countplot(x='Survived',hue='Pclass',data=df,palette='rainbow')"
   ]
  },
  {
   "cell_type": "code",
   "execution_count": 13,
   "metadata": {},
   "outputs": [
    {
     "data": {
      "image/png": "[encoded data removed]",
      "text/plain": [
       "<Figure size 720x360 with 1 Axes>"
      ]
     },
     "metadata": {},
     "output_type": "display_data"
    }
   ],
   "source": [
    "bar_chart('Pclass')"
   ]
  },
  {
   "cell_type": "code",
   "execution_count": 14,
   "metadata": {},
   "outputs": [
    {
     "data": {
      "text/plain": [
       "<matplotlib.axes._subplots.AxesSubplot at 0xd98d4e0>"
      ]
     },
     "execution_count": 14,
     "metadata": {},
     "output_type": "execute_result"
    },
    {
     "data": {
      "image/png": "[encoded data removed]",
      "text/plain": [
       "<Figure size 432x288 with 1 Axes>"
      ]
     },
     "metadata": {},
     "output_type": "display_data"
    }
   ],
   "source": [
    "sns.set_style(\"whitegrid\")\n",
    "sns.countplot(x='Survived',hue='Parch',data=df,palette='muted')"
   ]
  },
  {
   "cell_type": "code",
   "execution_count": 15,
   "metadata": {},
   "outputs": [
    {
     "data": {
      "image/png": "[encoded data removed]",
      "text/plain": [
       "<Figure size 720x360 with 1 Axes>"
      ]
     },
     "metadata": {},
     "output_type": "display_data"
    }
   ],
   "source": [
    "bar_chart('Parch')"
   ]
  },
  {
   "cell_type": "code",
   "execution_count": 16,
   "metadata": {},
   "outputs": [
    {
     "data": {
      "text/plain": [
       "<matplotlib.axes._subplots.AxesSubplot at 0xdad0710>"
      ]
     },
     "execution_count": 16,
     "metadata": {},
     "output_type": "execute_result"
    },
    {
     "data": {
      "image/png": "[encoded data removed]",
      "text/plain": [
       "<Figure size 432x288 with 1 Axes>"
      ]
     },
     "metadata": {},
     "output_type": "display_data"
    }
   ],
   "source": [
    "sns.set_style(\"whitegrid\")\n",
    "sns.countplot(x='Survived',hue='Embarked',data=df,palette='cubehelix')"
   ]
  },
  {
   "cell_type": "code",
   "execution_count": 17,
   "metadata": {},
   "outputs": [
    {
     "data": {
      "image/png": "[encoded data removed]",
      "text/plain": [
       "<Figure size 720x360 with 1 Axes>"
      ]
     },
     "metadata": {},
     "output_type": "display_data"
    }
   ],
   "source": [
    "bar_chart('Embarked')"
   ]
  },
  {
   "cell_type": "code",
   "execution_count": 18,
   "metadata": {},
   "outputs": [
    {
     "data": {
      "text/plain": [
       "<matplotlib.axes._subplots.AxesSubplot at 0xdbad358>"
      ]
     },
     "execution_count": 18,
     "metadata": {},
     "output_type": "execute_result"
    },
    {
     "data": {
      "image/png": "[encoded data removed]",
      "text/plain": [
       "<Figure size 432x288 with 1 Axes>"
      ]
     },
     "metadata": {},
     "output_type": "display_data"
    }
   ],
   "source": [
    "sns.set_style(\"whitegrid\")\n",
    "sns.countplot(x='Survived',hue='SibSp',data=df,palette='rainbow')"
   ]
  },
  {
   "cell_type": "code",
   "execution_count": 19,
   "metadata": {},
   "outputs": [
    {
     "data": {
      "image/png": "[encoded data removed]",
      "text/plain": [
       "<Figure size 720x360 with 1 Axes>"
      ]
     },
     "metadata": {},
     "output_type": "display_data"
    }
   ],
   "source": [
    "bar_chart('SibSp')"
   ]
  },
  {
   "cell_type": "markdown",
   "metadata": {},
   "source": [
    "# Feature Engineering"
   ]
  },
  {
   "cell_type": "code",
   "execution_count": 20,
   "metadata": {},
   "outputs": [
    {
     "data": {
      "text/html": [
       "<div>\n",
       "<style scoped>\n",
       "    .dataframe tbody tr th:only-of-type {\n",
       "        vertical-align: middle;\n",
       "    }\n",
       "\n",
       "    .dataframe tbody tr th {\n",
       "        vertical-align: top;\n",
       "    }\n",
       "\n",
       "    .dataframe thead th {\n",
       "        text-align: right;\n",
       "    }\n",
       "</style>\n",
       "<table border=\"1\" class=\"dataframe\">\n",
       "  <thead>\n",
       "    <tr style=\"text-align: right;\">\n",
       "      <th></th>\n",
       "      <th>Survived</th>\n",
       "    </tr>\n",
       "    <tr>\n",
       "      <th>Sex</th>\n",
       "      <th></th>\n",
       "    </tr>\n",
       "  </thead>\n",
       "  <tbody>\n",
       "    <tr>\n",
       "      <th>female</th>\n",
       "      <td>74.203822</td>\n",
       "    </tr>\n",
       "    <tr>\n",
       "      <th>male</th>\n",
       "      <td>18.890815</td>\n",
       "    </tr>\n",
       "  </tbody>\n",
       "</table>\n",
       "</div>"
      ],
      "text/plain": [
       "         Survived\n",
       "Sex              \n",
       "female  74.203822\n",
       "male    18.890815"
      ]
     },
     "execution_count": 20,
     "metadata": {},
     "output_type": "execute_result"
    }
   ],
   "source": [
    "# Survival rate by gender\n",
    "df.groupby('Sex')[['Survived']].mean()*100"
   ]
  },
  {
   "cell_type": "code",
   "execution_count": 21,
   "metadata": {},
   "outputs": [
    {
     "data": {
      "text/html": [
       "<div>\n",
       "<style scoped>\n",
       "    .dataframe tbody tr th:only-of-type {\n",
       "        vertical-align: middle;\n",
       "    }\n",
       "\n",
       "    .dataframe tbody tr th {\n",
       "        vertical-align: top;\n",
       "    }\n",
       "\n",
       "    .dataframe thead th {\n",
       "        text-align: right;\n",
       "    }\n",
       "</style>\n",
       "<table border=\"1\" class=\"dataframe\">\n",
       "  <thead>\n",
       "    <tr style=\"text-align: right;\">\n",
       "      <th>Pclass</th>\n",
       "      <th>1</th>\n",
       "      <th>2</th>\n",
       "      <th>3</th>\n",
       "    </tr>\n",
       "    <tr>\n",
       "      <th>Sex</th>\n",
       "      <th></th>\n",
       "      <th></th>\n",
       "      <th></th>\n",
       "    </tr>\n",
       "  </thead>\n",
       "  <tbody>\n",
       "    <tr>\n",
       "      <th>female</th>\n",
       "      <td>0.968085</td>\n",
       "      <td>0.921053</td>\n",
       "      <td>0.500000</td>\n",
       "    </tr>\n",
       "    <tr>\n",
       "      <th>male</th>\n",
       "      <td>0.368852</td>\n",
       "      <td>0.157407</td>\n",
       "      <td>0.135447</td>\n",
       "    </tr>\n",
       "  </tbody>\n",
       "</table>\n",
       "</div>"
      ],
      "text/plain": [
       "Pclass         1         2         3\n",
       "Sex                                 \n",
       "female  0.968085  0.921053  0.500000\n",
       "male    0.368852  0.157407  0.135447"
      ]
     },
     "execution_count": 21,
     "metadata": {},
     "output_type": "execute_result"
    }
   ],
   "source": [
    "# Survival rate by gender and class\n",
    "df.pivot_table('Survived',index='Sex',columns='Pclass')"
   ]
  },
  {
   "cell_type": "code",
   "execution_count": 22,
   "metadata": {},
   "outputs": [
    {
     "data": {
      "text/plain": [
       "<matplotlib.axes._subplots.AxesSubplot at 0xda7f0f0>"
      ]
     },
     "execution_count": 22,
     "metadata": {},
     "output_type": "execute_result"
    },
    {
     "data": {
      "image/png": "[encoded data removed]",
      "text/plain": [
       "<Figure size 432x288 with 1 Axes>"
      ]
     },
     "metadata": {},
     "output_type": "display_data"
    }
   ],
   "source": [
    "# Survival rate by gender and class visually\n",
    "df.pivot_table('Survived',index='Sex',columns='Pclass').plot()"
   ]
  },
  {
   "cell_type": "markdown",
   "metadata": {},
   "source": [
    "# Missing Value Treatement"
   ]
  },
  {
   "cell_type": "code",
   "execution_count": 23,
   "metadata": {},
   "outputs": [
    {
     "data": {
      "text/plain": [
       "<matplotlib.axes._subplots.AxesSubplot at 0xd84be10>"
      ]
     },
     "execution_count": 23,
     "metadata": {},
     "output_type": "execute_result"
    },
    {
     "data": {
      "image/png": "[encoded data removed]",
      "text/plain": [
       "<Figure size 432x288 with 1 Axes>"
      ]
     },
     "metadata": {},
     "output_type": "display_data"
    }
   ],
   "source": [
    "# Visualize number of missing value in each column\n",
    "sns.heatmap(df.isnull(),yticklabels=False,cbar=False,cmap='viridis')"
   ]
  },
  {
   "cell_type": "code",
   "execution_count": 24,
   "metadata": {},
   "outputs": [
    {
     "data": {
      "text/plain": [
       "<matplotlib.axes._subplots.AxesSubplot at 0xda04198>"
      ]
     },
     "execution_count": 24,
     "metadata": {},
     "output_type": "execute_result"
    },
    {
     "data": {
      "image/png": "[encoded data removed]",
      "text/plain": [
       "<Figure size 864x504 with 1 Axes>"
      ]
     },
     "metadata": {},
     "output_type": "display_data"
    }
   ],
   "source": [
    "plt.figure(figsize=(12,7))\n",
    "sns.boxplot(x='Pclass',y='Age',data=df,palette='winter')"
   ]
  },
  {
   "cell_type": "code",
   "execution_count": 25,
   "metadata": {},
   "outputs": [],
   "source": [
    "def impute_age(cols):\n",
    "    Age=cols[0]\n",
    "    Pclass=cols[1]\n",
    "    \n",
    "    if pd.isnull(Age):\n",
    "        if Pclass ==1:\n",
    "            return 37\n",
    "        \n",
    "        elif Pclass == 2:\n",
    "            return 29\n",
    "        \n",
    "        else:\n",
    "            return 24\n",
    "        \n",
    "    else:\n",
    "        return Age\n",
    "            \n",
    "            "
   ]
  },
  {
   "cell_type": "code",
   "execution_count": 26,
   "metadata": {},
   "outputs": [],
   "source": [
    "df['Age']=df[['Age','Pclass']].apply(impute_age,axis=1)"
   ]
  },
  {
   "cell_type": "code",
   "execution_count": 27,
   "metadata": {},
   "outputs": [
    {
     "data": {
      "text/plain": [
       "<matplotlib.axes._subplots.AxesSubplot at 0xded75f8>"
      ]
     },
     "execution_count": 27,
     "metadata": {},
     "output_type": "execute_result"
    },
    {
     "data": {
      "image/png": "[encoded data removed]",
      "text/plain": [
       "<Figure size 432x288 with 1 Axes>"
      ]
     },
     "metadata": {},
     "output_type": "display_data"
    }
   ],
   "source": [
    "sns.heatmap(df.isnull(),yticklabels=False,cbar=False,cmap='viridis')"
   ]
  },
  {
   "cell_type": "code",
   "execution_count": 28,
   "metadata": {},
   "outputs": [
    {
     "data": {
      "text/plain": [
       "<matplotlib.axes._subplots.AxesSubplot at 0xdf22240>"
      ]
     },
     "execution_count": 28,
     "metadata": {},
     "output_type": "execute_result"
    },
    {
     "data": {
      "image/png": "[encoded data removed]",
      "text/plain": [
       "<Figure size 432x288 with 1 Axes>"
      ]
     },
     "metadata": {},
     "output_type": "display_data"
    }
   ],
   "source": [
    "# Distribution of Age feature after Missing value treatment\n",
    "sns.distplot(df['Age'],kde=False,color='darkred',bins=40)"
   ]
  },
  {
   "cell_type": "code",
   "execution_count": 29,
   "metadata": {},
   "outputs": [
    {
     "data": {
      "text/plain": [
       "<matplotlib.axes._subplots.AxesSubplot at 0xe219400>"
      ]
     },
     "execution_count": 29,
     "metadata": {},
     "output_type": "execute_result"
    },
    {
     "data": {
      "image/png": "[encoded data removed]",
      "text/plain": [
       "<Figure size 432x288 with 1 Axes>"
      ]
     },
     "metadata": {},
     "output_type": "display_data"
    }
   ],
   "source": [
    "# Checking outlier in the Age column\n",
    "sns.boxplot('Age',data=df)"
   ]
  },
  {
   "cell_type": "code",
   "execution_count": 30,
   "metadata": {},
   "outputs": [
    {
     "name": "stdout",
     "output_type": "stream",
     "text": [
      "[0.53383369 0.67489052 0.23165264 0.44825473 0.44825473 0.38274316\n",
      " 1.88361472 2.04473895 0.15610738 1.13819579 1.89364842 2.18579577\n",
      " 0.68492422 0.75043578 1.13819579 1.95915999 2.04473895 0.00501685\n",
      " 0.14607368 0.38274316 0.44825473 0.37270946 1.06265053 0.08056211\n",
      " 1.59146737 0.67489052 0.38274316 0.76046948 0.38274316 0.38274316\n",
      " 0.82598104 0.59934525 0.38274316 2.79015788 0.08056211 0.97707157\n",
      " 0.38274316 0.60937895 0.83601474 1.13819579 0.82598104 0.15610738\n",
      " 0.38274316 1.96919369 0.76046948 0.38274316 0.38274316 0.38274316\n",
      " 0.38274316 0.83601474 1.66701263 0.60937895 1.50588841 0.00501685\n",
      " 2.71461261 0.59934525 0.60937895 0.04278948 1.81810316 1.36483158\n",
      " 0.53383369 0.67489052 1.20370736 1.89364842 0.59934525 0.38274316\n",
      " 0.00501685 0.76046948 0.91156    0.23165264 0.22161894 0.98710527\n",
      " 0.60937895 0.23165264 0.22161894 0.3071979  0.38274316 0.38274316\n",
      " 2.13312691 0.07052841 0.53383369 0.00501685 0.38274316 0.08056211\n",
      " 0.91156    0.2971642  0.98710527 0.38274316 0.45828843 0.38274316\n",
      " 0.00501685 0.68492422 1.27925262 0.23165264 2.26134104 0.38274316\n",
      " 3.16788419 0.45828843 0.37270946 0.37270946 0.08056211 0.38274316\n",
      " 0.60937895 0.2971642  0.59934525 0.08056211 0.60937895 0.38274316\n",
      " 0.67489052 0.38274316 1.35479788 1.10042316 0.53383369 0.68492422\n",
      " 0.91156    0.60937895 3.13011156 0.00501685 0.38274316 2.04473895\n",
      " 0.60937895 0.38274316 0.25939157 0.25939157 1.88361472 1.28928632\n",
      " 0.38274316 0.38274316 0.38274316 1.20370736 0.2971642  0.68492422\n",
      " 1.35479788 0.00501685 0.3071979  0.45828843 0.76046948 0.59934525\n",
      " 0.98710527 0.38274316 0.38274316 0.53383369 0.38274316 0.76046948\n",
      " 0.83601474 0.76046948 0.15610738 1.51592211 0.56157262 0.97707157\n",
      " 1.65697893 0.53383369 1.99693262 0.86375367 0.38274316 1.65697893\n",
      " 0.98710527 0.07052841 0.38274316 0.38274316 1.12816209 0.82598104\n",
      " 0.23165264 0.91156    2.12028421 1.51592211 0.59934525 1.20370736\n",
      " 0.59934525 0.08056211 2.41243156 1.89364842 2.12028421 0.60937895\n",
      " 2.03470525 0.83601474 0.38274316 1.58143367 0.07052841 0.52379999\n",
      " 0.38274316 0.00501685 1.51592211 2.12028421 1.89364842 0.59934525\n",
      " 0.38274316 1.20370736 0.82598104 0.52379999 0.22161894 0.76046948\n",
      " 0.76046948 1.96919369 1.12816209 2.18579577 0.38274316 0.97707157\n",
      " 0.38274316 0.38274316 0.08056211 0.38274316 0.37270946 1.24147999\n",
      " 0.83601474 2.04473895 0.22161894 0.23165264 0.98710527 0.82598104\n",
      " 0.38274316 0.44825473 0.53383369 0.07052841 0.38274316 0.14607368\n",
      " 0.15610738 0.97707157 0.22161894 0.07052841 0.98710527 0.15610738\n",
      " 1.65697893 0.38274316 0.67489052 0.53383369 0.76046948 0.64715158\n",
      " 0.83601474 0.38274316 0.44825473 0.00501685 2.26134104 1.81810316\n",
      " 0.38274316 0.38274316 1.12816209 1.59146737 0.76046948 0.2971642\n",
      " 0.38274316 0.38274316 0.00501685 0.53383369 0.07052841 1.12816209\n",
      " 0.3071979  0.38274316 0.59934525 1.88361472 0.38274316 0.00501685\n",
      " 2.48797683 0.07052841 0.9015263  0.00501685 0.59934525 0.07052841\n",
      " 0.44825473 1.58143367 0.38274316 1.96919369 1.7325242  0.82598104\n",
      " 0.38274316 0.52379999 0.98710527 0.3071979  2.18579577 0.44825473\n",
      " 0.59934525 0.3071979  0.9015263  0.59934525 0.38274316 2.56352209\n",
      " 1.20370736 0.00501685 1.66701263 0.44825473 2.71461261 0.08056211\n",
      " 0.98710527 0.76046948 0.59934525 0.2971642  0.07052841 0.53383369\n",
      " 0.97707157 0.53383369 0.23165264 0.76046948 0.52379999 0.38274316\n",
      " 0.38274316 0.59934525 0.4205158  2.04473895 0.59934525 1.58143367\n",
      " 0.38274316 0.38274316 0.76046948 0.00501685 0.38274316 2.12632783\n",
      " 0.59934525 0.91156    0.07052841 0.07052841 0.38274316 0.83601474\n",
      " 0.23165264 0.08056211 1.05261683 0.23165264 0.38274316 1.88361472\n",
      " 0.14607368 0.82598104 0.53383369 0.15610738 0.07052841 0.53383369\n",
      " 0.38274316 0.52379999 2.41243156 0.52379999 0.14607368 0.98710527\n",
      " 0.38274316 1.24147999 0.67489052 0.98710527 0.59934525 0.38274316\n",
      " 0.00501685 0.9015263  1.20370736 1.20370736 2.04473895 0.38274316\n",
      " 0.08056211 0.3071979  0.52379999 0.38274316 0.82598104 0.38274316\n",
      " 1.96919369 0.97707157 0.45828843 0.59934525 1.06265053 0.3071979\n",
      " 0.38274316 0.08056211 0.53383369 0.67489052 0.38274316 0.38274316\n",
      " 0.82598104 0.00501685 1.20370736 0.44825473 0.38274316 0.07052841\n",
      " 2.3368863  0.38274316 0.38274316 0.38274316 0.3071979  0.83601474\n",
      " 0.76046948 0.53383369 1.96919369 0.59934525 0.53383369 0.15610738\n",
      " 0.68492422 0.76046948 0.97707157 2.12028421 0.22161894 0.44825473\n",
      " 0.38274316 0.83601474 2.12028421 0.52379999 0.38274316 0.91156\n",
      " 0.52379999 0.60937895 0.08056211 0.45828843 0.38274316 0.53383369\n",
      " 0.14607368 1.27925262 0.45828843 0.08056211 0.75043578 0.23165264\n",
      " 0.60937895 0.08056211 0.68492422 0.37270946 1.65697893 1.96919369\n",
      " 0.60937895 0.38274316 0.38274316 0.38274316 0.2971642  0.00501685\n",
      " 1.12816209 0.38274316 0.37270946 0.83601474 0.07052841 1.44037684\n",
      " 0.38274316 0.60937895 0.00501685 0.08056211 0.83601474 0.38274316\n",
      " 0.08056211 0.76046948 0.38274316 0.22161894 0.08056211 0.38274316\n",
      " 0.97707157 0.91156    1.58143367 1.13819579 0.60937895 0.38274316\n",
      " 2.63906735 0.14607368 1.20370736 0.68492422 0.3071979  0.08056211\n",
      " 0.38274316 1.89364842 1.21374106 0.37270946 1.81810316 1.7325242\n",
      " 0.52379999 0.38274316 0.07052841 1.50588841 0.38274316 0.00501685\n",
      " 2.71461261 0.59934525 1.58143367 0.38274316 1.43034315 0.37270946\n",
      " 1.35479788 1.43034315 0.38274316 0.67489052 0.00501685 2.03470525\n",
      " 0.38274316 2.13917053 0.38274316 0.67489052 0.2971642  0.45828843\n",
      " 0.53383369 0.59934525 0.37270946 0.00501685 0.53383369 2.04473895\n",
      " 1.51592211 0.00501685 1.58143367 2.56352209 0.3071979  0.38274316\n",
      " 0.44825473 2.18579577 0.07052841 1.51592211 0.38274316 0.60937895\n",
      " 1.95915999 3.16788419 0.60937895 0.38274316 1.88361472 0.38274316\n",
      " 0.3071979  0.38274316 0.91156    0.60937895 0.38274316 0.59934525\n",
      " 0.98710527 0.83601474 0.2971642  0.59934525 0.08056211 0.23165264\n",
      " 0.00501685 0.38274316 0.52379999 1.88361472 0.38274316 1.35479788\n",
      " 0.37270946 0.38274316 0.52379999 0.22161894 0.07052841 0.53383369\n",
      " 0.38274316 1.12816209 0.38274316 0.86375367 1.58143367 0.59934525\n",
      " 0.75043578 0.45828843 2.04473895 0.38274316 0.91156    0.38274316\n",
      " 0.07052841 1.66701263 1.20370736 0.07052841 0.38274316 0.53383369\n",
      " 0.52379999 1.51592211 1.36483158 0.22161894 1.58143367 2.63906735\n",
      " 0.76046948 0.00501685 0.2971642  1.59146737 0.91156    0.15610738\n",
      " 0.38274316 0.53383369 0.53383369 2.48797683 1.43034315 0.59934525\n",
      " 0.75043578 0.52379999 0.38274316 0.82598104 0.08056211 0.38274316\n",
      " 0.38274316 0.38274316 0.76046948 0.00501685 0.38274316 0.22161894\n",
      " 2.48797683 1.80806946 0.52379999 0.38274316 0.98710527 0.76046948\n",
      " 0.37270946 0.75043578 0.38274316 0.22161894 0.3071979  0.75043578\n",
      " 1.88361472 0.52379999 0.38274316 0.83601474 1.35479788 2.3368863\n",
      " 0.53383369 0.38274316 0.44825473 1.7325242  1.35479788 0.38274316\n",
      " 0.59934525 0.52379999 0.00501685 1.50588841 0.38274316 1.50588841\n",
      " 0.38274316 0.38274316 0.59934525 1.12816209 0.44825473 0.52379999\n",
      " 0.07052841 0.15610738 0.53383369 0.82598104 0.75043578 0.38274316\n",
      " 0.38274316 0.38274316 0.44825473 0.38274316 0.37270946 0.23165264\n",
      " 1.89364842 0.23165264 0.15610738 0.97707157 0.68492422 0.60937895\n",
      " 0.60937895 2.41243156 2.11025051 0.60937895 0.23165264 0.38274316\n",
      " 3.84779156 1.65697893 0.22161894 0.59934525 1.51592211 0.08056211\n",
      " 0.22161894 0.14607368 0.9015263  0.38274316 0.68492422 0.38274316\n",
      " 2.04473895 0.38274316 2.13917053 1.43034315 0.76046948 2.03470525\n",
      " 0.38274316 0.45828843 0.38274316 0.83601474 0.60937895 0.38274316\n",
      " 0.83601474 0.38274316 0.38274316 0.22161894 0.45828843 2.18579577\n",
      " 1.58143367 0.82598104 1.35479788 0.52379999 0.68492422 0.22161894\n",
      " 0.3071979  0.38274316 1.05261683 0.59934525 0.82598104 0.14607368\n",
      " 3.09233893 0.14607368 0.00501685 0.83601474 0.34497053 0.83601474\n",
      " 1.05261683 0.52379999 0.38274316 0.15610738 0.68492422 1.13819579\n",
      " 2.3368863  0.3071979  1.13819579 0.76046948 0.83601474 1.06265053\n",
      " 0.14607368 1.89364842 0.38274316 0.3071979  2.3368863  1.7325242\n",
      " 1.12816209 0.38274316 1.50588841 0.97707157 0.83601474 0.44825473\n",
      " 0.83601474 0.3071979  0.23165264 0.75043578 1.20370736 0.97707157\n",
      " 0.53383369 0.38274316 0.38274316 0.59934525 1.43034315 0.00501685\n",
      " 1.7325242  0.76046948 0.67489052 0.15610738 0.38274316 0.2971642\n",
      " 1.7425579  0.91156    0.37270946 1.58143367 0.15610738 0.68492422\n",
      " 0.07052841 0.38274316 0.3071979  0.3071979  0.00501685 1.36483158\n",
      " 0.00501685 0.45828843 0.45828843 0.04278948 1.43034315 0.44825473\n",
      " 0.38274316 0.38274316 0.59934525 0.52379999 0.60937895 0.38274316\n",
      " 0.14607368 3.09233893 0.98710527 0.07052841 0.76046948 0.14607368\n",
      " 1.89364842 1.7425579  0.2971642  0.45828843 1.43034315 2.14521415\n",
      " 0.08056211 0.83601474 0.37270946 0.2971642  0.38274316 0.9015263\n",
      " 0.68492422 0.52379999 0.98710527 1.65697893 0.59934525 0.10830104\n",
      " 0.38274316 0.22161894 0.38274316 1.43034315 2.11025051 0.38274316\n",
      " 1.88361472 0.83601474 0.38274316 1.81810316 0.38274316 1.05261683\n",
      " 1.21374106 0.91156    0.00501685 0.38274316 0.3071979  0.3071979\n",
      " 0.83601474 1.59146737 2.12028421 1.27925262 0.38274316 0.98710527\n",
      " 0.38274316 0.59934525 0.3071979  0.75043578 1.50588841 0.14607368\n",
      " 0.07052841 0.07052841 0.37270946 0.14607368 1.36483158 2.16410046\n",
      " 0.15610738 0.14607368 0.75043578 0.83601474 0.75043578 0.2971642\n",
      " 0.23165264 0.75043578 0.44825473 1.7425579  0.10830104 0.59934525\n",
      " 0.45828843 0.14607368 1.05261683 1.44037684 1.7325242  0.15610738\n",
      " 0.67489052 0.15610738 2.04473895 0.38274316 0.38274316 2.12028421\n",
      " 0.38274316 2.48797683 1.06265053 2.13312691 0.38274316 0.45828843\n",
      " 0.83601474 0.75043578 0.60937895 0.38274316 0.22161894 0.59934525\n",
      " 0.68492422 0.98710527 0.07052841 0.4104821  0.91156    0.97707157\n",
      " 0.38274316 0.44825473 0.08056211 0.59934525 1.89364842 3.39451998\n",
      " 1.51592211 0.98710527 1.12816209 0.83601474 1.20370736 1.65697893\n",
      " 0.38274316 0.38274316 0.9015263  0.60937895 1.43034315 0.38274316\n",
      " 0.38274316 0.97707157 0.15610738 0.14607368 0.38274316 1.89364842\n",
      " 0.23165264 1.35479788 0.2971642  1.35479788 0.08056211 1.06265053\n",
      " 0.68492422 0.76046948 0.38274316 2.03470525 0.3071979  0.2971642\n",
      " 0.53383369 0.08056211 0.3071979  0.75043578 0.15610738 0.76046948\n",
      " 0.38274316 0.23165264 0.22161894]\n"
     ]
    }
   ],
   "source": [
    "z = np.abs(stats.zscore(df.Age))\n",
    "print(z)"
   ]
  },
  {
   "cell_type": "code",
   "execution_count": 31,
   "metadata": {},
   "outputs": [
    {
     "data": {
      "text/plain": [
       "PassengerId      0\n",
       "Survived         0\n",
       "Pclass           0\n",
       "Name             0\n",
       "Sex              0\n",
       "Age              0\n",
       "SibSp            0\n",
       "Parch            0\n",
       "Ticket           0\n",
       "Fare             0\n",
       "Cabin          687\n",
       "Embarked         2\n",
       "dtype: int64"
      ]
     },
     "execution_count": 31,
     "metadata": {},
     "output_type": "execute_result"
    }
   ],
   "source": [
    "df.isnull().sum()"
   ]
  },
  {
   "cell_type": "code",
   "execution_count": 32,
   "metadata": {},
   "outputs": [
    {
     "data": {
      "text/plain": [
       "77.10437710437711"
      ]
     },
     "execution_count": 32,
     "metadata": {},
     "output_type": "execute_result"
    }
   ],
   "source": [
    "df['Cabin_null']=np.where(df['Cabin'].isnull(),1,0)\n",
    "# Find percentage of Null values in Cabin feature\n",
    "df['Cabin_null'].mean()*100"
   ]
  },
  {
   "cell_type": "code",
   "execution_count": 33,
   "metadata": {},
   "outputs": [
    {
     "data": {
      "text/plain": [
       "Survived\n",
       "0    87.613843\n",
       "1    60.233918\n",
       "Name: Cabin_null, dtype: float64"
      ]
     },
     "execution_count": 33,
     "metadata": {},
     "output_type": "execute_result"
    }
   ],
   "source": [
    "df.groupby(['Survived'])['Cabin_null'].mean()*100"
   ]
  },
  {
   "cell_type": "code",
   "execution_count": 34,
   "metadata": {},
   "outputs": [
    {
     "data": {
      "text/plain": [
       "C    59\n",
       "B    47\n",
       "D    33\n",
       "E    32\n",
       "A    15\n",
       "F    13\n",
       "G     4\n",
       "T     1\n",
       "Name: Cabin, dtype: int64"
      ]
     },
     "execution_count": 34,
     "metadata": {},
     "output_type": "execute_result"
    }
   ],
   "source": [
    "df['Cabin']=df['Cabin'].str[:1]\n",
    "df.Cabin.value_counts()"
   ]
  },
  {
   "cell_type": "code",
   "execution_count": 35,
   "metadata": {},
   "outputs": [
    {
     "data": {
      "text/plain": [
       "<matplotlib.axes._subplots.AxesSubplot at 0xe23e0b8>"
      ]
     },
     "execution_count": 35,
     "metadata": {},
     "output_type": "execute_result"
    },
    {
     "data": {
      "image/png": "[encoded data removed]",
      "text/plain": [
       "<Figure size 720x360 with 1 Axes>"
      ]
     },
     "metadata": {},
     "output_type": "display_data"
    }
   ],
   "source": [
    "Pclass1=df[df['Pclass']==1]['Cabin'].value_counts()\n",
    "Pclass2=df[df['Pclass']==2]['Cabin'].value_counts()\n",
    "Pclass3=df[df['Pclass']==3]['Cabin'].value_counts()\n",
    "df_cabin=pd.DataFrame([Pclass1,Pclass2,Pclass3])\n",
    "df_cabin.index=['1st class','2nd class','3rd class']\n",
    "df_cabin.plot(kind='bar',stacked=True,figsize=(10,5))"
   ]
  },
  {
   "cell_type": "code",
   "execution_count": 36,
   "metadata": {},
   "outputs": [],
   "source": [
    "cabin_mapping={'A':0,\"B\":0.4,\"C\":0.8,\"D\":1.2,\"E\":1.6,\"F\":2.0,\"G\":2.4,\"T\":2.8}\n",
    "df['Cabin']=df['Cabin'].map(cabin_mapping)"
   ]
  },
  {
   "cell_type": "code",
   "execution_count": 37,
   "metadata": {},
   "outputs": [],
   "source": [
    "df['Cabin'].fillna(df.groupby(\"Pclass\")[\"Cabin\"].transform(\"median\"),inplace=True)"
   ]
  },
  {
   "cell_type": "code",
   "execution_count": 38,
   "metadata": {},
   "outputs": [
    {
     "data": {
      "text/plain": [
       "Mr          517\n",
       "Miss        182\n",
       "Mrs         125\n",
       "Master       40\n",
       "Dr            7\n",
       "Rev           6\n",
       "Mlle          2\n",
       "Major         2\n",
       "Col           2\n",
       "Lady          1\n",
       "Mme           1\n",
       "Capt          1\n",
       "Jonkheer      1\n",
       "Ms            1\n",
       "Sir           1\n",
       "Don           1\n",
       "Countess      1\n",
       "Name: Title, dtype: int64"
      ]
     },
     "execution_count": 38,
     "metadata": {},
     "output_type": "execute_result"
    }
   ],
   "source": [
    "df['Title']=df['Name'].str.extract(\"([A-za-z]+)\\.\")\n",
    "df.Title.value_counts()"
   ]
  },
  {
   "cell_type": "code",
   "execution_count": 39,
   "metadata": {},
   "outputs": [],
   "source": [
    "title_mapping={\"Mr\":8,\"Miss\":7,\"Mrs\":6,\"Master\":5,\"Dr\":4,\"Rev\":3,\"Col\":2,\"Major\":2,\"Mile\":2,\"Mme\":1,\"Ms\":1,\n",
    "               \"Jonkheer\":1,\"Don\":1,\"Lady\":1,\"Countess\":1,\"Capt\":1,\"Sir\":1}\n",
    "df[\"Title\"]=df[\"Title\"].map(title_mapping)"
   ]
  },
  {
   "cell_type": "code",
   "execution_count": 40,
   "metadata": {},
   "outputs": [
    {
     "data": {
      "image/png": "[encoded data removed]",
      "text/plain": [
       "<Figure size 720x360 with 1 Axes>"
      ]
     },
     "metadata": {},
     "output_type": "display_data"
    }
   ],
   "source": [
    "bar_chart(\"Title\")"
   ]
  },
  {
   "cell_type": "code",
   "execution_count": 41,
   "metadata": {},
   "outputs": [],
   "source": [
    "sex_mapping={\"male\":0,\"female\":1}\n",
    "df[\"Sex\"]=df[\"Sex\"].map(sex_mapping)"
   ]
  },
  {
   "cell_type": "code",
   "execution_count": 42,
   "metadata": {},
   "outputs": [
    {
     "data": {
      "image/png": "[encoded data removed]",
      "text/plain": [
       "<Figure size 720x360 with 1 Axes>"
      ]
     },
     "metadata": {},
     "output_type": "display_data"
    }
   ],
   "source": [
    "bar_chart(\"Sex\")"
   ]
  },
  {
   "cell_type": "code",
   "execution_count": 43,
   "metadata": {},
   "outputs": [],
   "source": [
    "df[\"FamilySize\"]=df[\"SibSp\"]+df[\"Parch\"]+1"
   ]
  },
  {
   "cell_type": "code",
   "execution_count": 44,
   "metadata": {},
   "outputs": [
    {
     "data": {
      "image/png": "[encoded data removed]",
      "text/plain": [
       "<Figure size 720x360 with 1 Axes>"
      ]
     },
     "metadata": {},
     "output_type": "display_data"
    }
   ],
   "source": [
    "bar_chart(\"FamilySize\")"
   ]
  },
  {
   "cell_type": "code",
   "execution_count": 45,
   "metadata": {},
   "outputs": [],
   "source": [
    "family_mapping={1:0,2:0.4,3:0.8,4:1.2,5:1.6,6:2.0,7:2.4,8:2.8,9:3.2,10:3.6,11:4.0}\n",
    "df[\"FamilySize\"]=df[\"FamilySize\"].map(family_mapping)"
   ]
  },
  {
   "cell_type": "code",
   "execution_count": 46,
   "metadata": {},
   "outputs": [
    {
     "data": {
      "text/plain": [
       "<matplotlib.axes._subplots.AxesSubplot at 0xe357400>"
      ]
     },
     "execution_count": 46,
     "metadata": {},
     "output_type": "execute_result"
    },
    {
     "data": {
      "image/png": "[encoded data removed]",
      "text/plain": [
       "<Figure size 720x360 with 1 Axes>"
      ]
     },
     "metadata": {},
     "output_type": "display_data"
    }
   ],
   "source": [
    "Pclass1=df[df['Pclass']==1]['Embarked'].value_counts()\n",
    "Pclass2=df[df['Pclass']==2]['Embarked'].value_counts()\n",
    "Pclass3=df[df['Pclass']==3]['Embarked'].value_counts()\n",
    "df_embark=pd.DataFrame([Pclass1,Pclass2,Pclass3])\n",
    "df_embark.index=['1st class','2nd class','3rd class']\n",
    "df_embark.plot(kind='bar',stacked=True,figsize=(10,5))"
   ]
  },
  {
   "cell_type": "code",
   "execution_count": 47,
   "metadata": {},
   "outputs": [],
   "source": [
    "df[\"Embarked\"]=df[\"Embarked\"].fillna(\"S\")"
   ]
  },
  {
   "cell_type": "code",
   "execution_count": 48,
   "metadata": {},
   "outputs": [],
   "source": [
    "Embarked_mapping={\"S\":0,\"C\":1,\"Q\":2}\n",
    "df[\"Embarked\"]=df[\"Embarked\"].map(Embarked_mapping)"
   ]
  },
  {
   "cell_type": "code",
   "execution_count": 49,
   "metadata": {},
   "outputs": [
    {
     "data": {
      "text/plain": [
       "<matplotlib.axes._subplots.AxesSubplot at 0xda4d828>"
      ]
     },
     "execution_count": 49,
     "metadata": {},
     "output_type": "execute_result"
    },
    {
     "data": {
      "image/png": "[encoded data removed]",
      "text/plain": [
       "<Figure size 432x288 with 1 Axes>"
      ]
     },
     "metadata": {},
     "output_type": "display_data"
    }
   ],
   "source": [
    "sns.distplot(df['Fare'],kde=True,color='Green',bins=40)"
   ]
  },
  {
   "cell_type": "code",
   "execution_count": 50,
   "metadata": {},
   "outputs": [
    {
     "data": {
      "text/plain": [
       "<matplotlib.axes._subplots.AxesSubplot at 0xf9f19b0>"
      ]
     },
     "execution_count": 50,
     "metadata": {},
     "output_type": "execute_result"
    },
    {
     "data": {
      "image/png": "[encoded data removed]",
      "text/plain": [
       "<Figure size 432x288 with 1 Axes>"
      ]
     },
     "metadata": {},
     "output_type": "display_data"
    }
   ],
   "source": [
    "#Log normal transformation \n",
    "df[\"Log_Fare\"]=np.log(df[\"Fare\"]+1)\n",
    "sns.distplot(df['Log_Fare'],kde=True,color='Green',bins=40)"
   ]
  },
  {
   "cell_type": "code",
   "execution_count": 51,
   "metadata": {},
   "outputs": [
    {
     "data": {
      "text/html": [
       "<div>\n",
       "<style scoped>\n",
       "    .dataframe tbody tr th:only-of-type {\n",
       "        vertical-align: middle;\n",
       "    }\n",
       "\n",
       "    .dataframe tbody tr th {\n",
       "        vertical-align: top;\n",
       "    }\n",
       "\n",
       "    .dataframe thead th {\n",
       "        text-align: right;\n",
       "    }\n",
       "</style>\n",
       "<table border=\"1\" class=\"dataframe\">\n",
       "  <thead>\n",
       "    <tr style=\"text-align: right;\">\n",
       "      <th></th>\n",
       "      <th>PassengerId</th>\n",
       "      <th>Survived</th>\n",
       "      <th>Pclass</th>\n",
       "      <th>Name</th>\n",
       "      <th>Sex</th>\n",
       "      <th>Age</th>\n",
       "      <th>SibSp</th>\n",
       "      <th>Parch</th>\n",
       "      <th>Ticket</th>\n",
       "      <th>Fare</th>\n",
       "      <th>Cabin</th>\n",
       "      <th>Embarked</th>\n",
       "      <th>Cabin_null</th>\n",
       "      <th>Title</th>\n",
       "      <th>FamilySize</th>\n",
       "      <th>Log_Fare</th>\n",
       "    </tr>\n",
       "  </thead>\n",
       "  <tbody>\n",
       "    <tr>\n",
       "      <th>0</th>\n",
       "      <td>1</td>\n",
       "      <td>0</td>\n",
       "      <td>3</td>\n",
       "      <td>Braund, Mr. Owen Harris</td>\n",
       "      <td>0</td>\n",
       "      <td>22.0</td>\n",
       "      <td>1</td>\n",
       "      <td>0</td>\n",
       "      <td>A/5 21171</td>\n",
       "      <td>7.2500</td>\n",
       "      <td>2.0</td>\n",
       "      <td>0</td>\n",
       "      <td>1</td>\n",
       "      <td>8.0</td>\n",
       "      <td>0.4</td>\n",
       "      <td>2.110213</td>\n",
       "    </tr>\n",
       "    <tr>\n",
       "      <th>1</th>\n",
       "      <td>2</td>\n",
       "      <td>1</td>\n",
       "      <td>1</td>\n",
       "      <td>Cumings, Mrs. John Bradley (Florence Briggs Th...</td>\n",
       "      <td>1</td>\n",
       "      <td>38.0</td>\n",
       "      <td>1</td>\n",
       "      <td>0</td>\n",
       "      <td>PC 17599</td>\n",
       "      <td>71.2833</td>\n",
       "      <td>0.8</td>\n",
       "      <td>1</td>\n",
       "      <td>0</td>\n",
       "      <td>6.0</td>\n",
       "      <td>0.4</td>\n",
       "      <td>4.280593</td>\n",
       "    </tr>\n",
       "    <tr>\n",
       "      <th>2</th>\n",
       "      <td>3</td>\n",
       "      <td>1</td>\n",
       "      <td>3</td>\n",
       "      <td>Heikkinen, Miss. Laina</td>\n",
       "      <td>1</td>\n",
       "      <td>26.0</td>\n",
       "      <td>0</td>\n",
       "      <td>0</td>\n",
       "      <td>STON/O2. 3101282</td>\n",
       "      <td>7.9250</td>\n",
       "      <td>2.0</td>\n",
       "      <td>0</td>\n",
       "      <td>1</td>\n",
       "      <td>7.0</td>\n",
       "      <td>0.0</td>\n",
       "      <td>2.188856</td>\n",
       "    </tr>\n",
       "    <tr>\n",
       "      <th>3</th>\n",
       "      <td>4</td>\n",
       "      <td>1</td>\n",
       "      <td>1</td>\n",
       "      <td>Futrelle, Mrs. Jacques Heath (Lily May Peel)</td>\n",
       "      <td>1</td>\n",
       "      <td>35.0</td>\n",
       "      <td>1</td>\n",
       "      <td>0</td>\n",
       "      <td>113803</td>\n",
       "      <td>53.1000</td>\n",
       "      <td>0.8</td>\n",
       "      <td>0</td>\n",
       "      <td>0</td>\n",
       "      <td>6.0</td>\n",
       "      <td>0.4</td>\n",
       "      <td>3.990834</td>\n",
       "    </tr>\n",
       "    <tr>\n",
       "      <th>4</th>\n",
       "      <td>5</td>\n",
       "      <td>0</td>\n",
       "      <td>3</td>\n",
       "      <td>Allen, Mr. William Henry</td>\n",
       "      <td>0</td>\n",
       "      <td>35.0</td>\n",
       "      <td>0</td>\n",
       "      <td>0</td>\n",
       "      <td>373450</td>\n",
       "      <td>8.0500</td>\n",
       "      <td>2.0</td>\n",
       "      <td>0</td>\n",
       "      <td>1</td>\n",
       "      <td>8.0</td>\n",
       "      <td>0.0</td>\n",
       "      <td>2.202765</td>\n",
       "    </tr>\n",
       "  </tbody>\n",
       "</table>\n",
       "</div>"
      ],
      "text/plain": [
       "   PassengerId  Survived  Pclass  \\\n",
       "0            1         0       3   \n",
       "1            2         1       1   \n",
       "2            3         1       3   \n",
       "3            4         1       1   \n",
       "4            5         0       3   \n",
       "\n",
       "                                                Name  Sex   Age  SibSp  Parch  \\\n",
       "0                            Braund, Mr. Owen Harris    0  22.0      1      0   \n",
       "1  Cumings, Mrs. John Bradley (Florence Briggs Th...    1  38.0      1      0   \n",
       "2                             Heikkinen, Miss. Laina    1  26.0      0      0   \n",
       "3       Futrelle, Mrs. Jacques Heath (Lily May Peel)    1  35.0      1      0   \n",
       "4                           Allen, Mr. William Henry    0  35.0      0      0   \n",
       "\n",
       "             Ticket     Fare  Cabin  Embarked  Cabin_null  Title  FamilySize  \\\n",
       "0         A/5 21171   7.2500    2.0         0           1    8.0         0.4   \n",
       "1          PC 17599  71.2833    0.8         1           0    6.0         0.4   \n",
       "2  STON/O2. 3101282   7.9250    2.0         0           1    7.0         0.0   \n",
       "3            113803  53.1000    0.8         0           0    6.0         0.4   \n",
       "4            373450   8.0500    2.0         0           1    8.0         0.0   \n",
       "\n",
       "   Log_Fare  \n",
       "0  2.110213  \n",
       "1  4.280593  \n",
       "2  2.188856  \n",
       "3  3.990834  \n",
       "4  2.202765  "
      ]
     },
     "execution_count": 51,
     "metadata": {},
     "output_type": "execute_result"
    }
   ],
   "source": [
    "df.head()"
   ]
  },
  {
   "cell_type": "code",
   "execution_count": 52,
   "metadata": {},
   "outputs": [
    {
     "data": {
      "text/html": [
       "<div>\n",
       "<style scoped>\n",
       "    .dataframe tbody tr th:only-of-type {\n",
       "        vertical-align: middle;\n",
       "    }\n",
       "\n",
       "    .dataframe tbody tr th {\n",
       "        vertical-align: top;\n",
       "    }\n",
       "\n",
       "    .dataframe thead th {\n",
       "        text-align: right;\n",
       "    }\n",
       "</style>\n",
       "<table border=\"1\" class=\"dataframe\">\n",
       "  <thead>\n",
       "    <tr style=\"text-align: right;\">\n",
       "      <th></th>\n",
       "      <th>Pclass</th>\n",
       "      <th>1</th>\n",
       "      <th>2</th>\n",
       "      <th>3</th>\n",
       "    </tr>\n",
       "    <tr>\n",
       "      <th>Sex</th>\n",
       "      <th>Age</th>\n",
       "      <th></th>\n",
       "      <th></th>\n",
       "      <th></th>\n",
       "    </tr>\n",
       "  </thead>\n",
       "  <tbody>\n",
       "    <tr>\n",
       "      <th rowspan=\"4\" valign=\"top\">0</th>\n",
       "      <th>(0, 20]</th>\n",
       "      <td>0.571429</td>\n",
       "      <td>0.526316</td>\n",
       "      <td>0.197368</td>\n",
       "    </tr>\n",
       "    <tr>\n",
       "      <th>(20, 40]</th>\n",
       "      <td>0.415385</td>\n",
       "      <td>0.073529</td>\n",
       "      <td>0.125000</td>\n",
       "    </tr>\n",
       "    <tr>\n",
       "      <th>(40, 60]</th>\n",
       "      <td>0.342105</td>\n",
       "      <td>0.055556</td>\n",
       "      <td>0.074074</td>\n",
       "    </tr>\n",
       "    <tr>\n",
       "      <th>(60, 80]</th>\n",
       "      <td>0.083333</td>\n",
       "      <td>0.333333</td>\n",
       "      <td>0.000000</td>\n",
       "    </tr>\n",
       "    <tr>\n",
       "      <th rowspan=\"4\" valign=\"top\">1</th>\n",
       "      <th>(0, 20]</th>\n",
       "      <td>0.928571</td>\n",
       "      <td>1.000000</td>\n",
       "      <td>0.510638</td>\n",
       "    </tr>\n",
       "    <tr>\n",
       "      <th>(20, 40]</th>\n",
       "      <td>0.981481</td>\n",
       "      <td>0.914894</td>\n",
       "      <td>0.534091</td>\n",
       "    </tr>\n",
       "    <tr>\n",
       "      <th>(40, 60]</th>\n",
       "      <td>0.958333</td>\n",
       "      <td>0.846154</td>\n",
       "      <td>0.000000</td>\n",
       "    </tr>\n",
       "    <tr>\n",
       "      <th>(60, 80]</th>\n",
       "      <td>1.000000</td>\n",
       "      <td>NaN</td>\n",
       "      <td>1.000000</td>\n",
       "    </tr>\n",
       "  </tbody>\n",
       "</table>\n",
       "</div>"
      ],
      "text/plain": [
       "Pclass               1         2         3\n",
       "Sex Age                                   \n",
       "0   (0, 20]   0.571429  0.526316  0.197368\n",
       "    (20, 40]  0.415385  0.073529  0.125000\n",
       "    (40, 60]  0.342105  0.055556  0.074074\n",
       "    (60, 80]  0.083333  0.333333  0.000000\n",
       "1   (0, 20]   0.928571  1.000000  0.510638\n",
       "    (20, 40]  0.981481  0.914894  0.534091\n",
       "    (40, 60]  0.958333  0.846154  0.000000\n",
       "    (60, 80]  1.000000       NaN  1.000000"
      ]
     },
     "execution_count": 52,
     "metadata": {},
     "output_type": "execute_result"
    }
   ],
   "source": [
    "#Survival rate by Sex, Age and Pclass\n",
    "age=pd.cut(df['Age'],[0,20,40,60,80])\n",
    "df.pivot_table('Survived',['Sex',age],'Pclass')"
   ]
  },
  {
   "cell_type": "code",
   "execution_count": 53,
   "metadata": {},
   "outputs": [
    {
     "data": {
      "text/html": [
       "<div>\n",
       "<style scoped>\n",
       "    .dataframe tbody tr th:only-of-type {\n",
       "        vertical-align: middle;\n",
       "    }\n",
       "\n",
       "    .dataframe tbody tr th {\n",
       "        vertical-align: top;\n",
       "    }\n",
       "\n",
       "    .dataframe thead th {\n",
       "        text-align: right;\n",
       "    }\n",
       "</style>\n",
       "<table border=\"1\" class=\"dataframe\">\n",
       "  <thead>\n",
       "    <tr style=\"text-align: right;\">\n",
       "      <th></th>\n",
       "      <th>Pclass</th>\n",
       "      <th>1</th>\n",
       "      <th>2</th>\n",
       "      <th>3</th>\n",
       "    </tr>\n",
       "    <tr>\n",
       "      <th>Embarked</th>\n",
       "      <th>Age</th>\n",
       "      <th></th>\n",
       "      <th></th>\n",
       "      <th></th>\n",
       "    </tr>\n",
       "  </thead>\n",
       "  <tbody>\n",
       "    <tr>\n",
       "      <th rowspan=\"4\" valign=\"top\">0</th>\n",
       "      <th>(0, 20]</th>\n",
       "      <td>0.785714</td>\n",
       "      <td>0.709677</td>\n",
       "      <td>0.239130</td>\n",
       "    </tr>\n",
       "    <tr>\n",
       "      <th>(20, 40]</th>\n",
       "      <td>0.637681</td>\n",
       "      <td>0.410000</td>\n",
       "      <td>0.185841</td>\n",
       "    </tr>\n",
       "    <tr>\n",
       "      <th>(40, 60]</th>\n",
       "      <td>0.514286</td>\n",
       "      <td>0.400000</td>\n",
       "      <td>0.062500</td>\n",
       "    </tr>\n",
       "    <tr>\n",
       "      <th>(60, 80]</th>\n",
       "      <td>0.272727</td>\n",
       "      <td>0.333333</td>\n",
       "      <td>0.333333</td>\n",
       "    </tr>\n",
       "    <tr>\n",
       "      <th rowspan=\"4\" valign=\"top\">1</th>\n",
       "      <th>(0, 20]</th>\n",
       "      <td>0.857143</td>\n",
       "      <td>1.000000</td>\n",
       "      <td>0.619048</td>\n",
       "    </tr>\n",
       "    <tr>\n",
       "      <th>(20, 40]</th>\n",
       "      <td>0.714286</td>\n",
       "      <td>0.384615</td>\n",
       "      <td>0.279070</td>\n",
       "    </tr>\n",
       "    <tr>\n",
       "      <th>(40, 60]</th>\n",
       "      <td>0.692308</td>\n",
       "      <td>NaN</td>\n",
       "      <td>0.000000</td>\n",
       "    </tr>\n",
       "    <tr>\n",
       "      <th>(60, 80]</th>\n",
       "      <td>0.000000</td>\n",
       "      <td>NaN</td>\n",
       "      <td>NaN</td>\n",
       "    </tr>\n",
       "    <tr>\n",
       "      <th rowspan=\"4\" valign=\"top\">2</th>\n",
       "      <th>(0, 20]</th>\n",
       "      <td>NaN</td>\n",
       "      <td>NaN</td>\n",
       "      <td>0.400000</td>\n",
       "    </tr>\n",
       "    <tr>\n",
       "      <th>(20, 40]</th>\n",
       "      <td>1.000000</td>\n",
       "      <td>1.000000</td>\n",
       "      <td>0.389831</td>\n",
       "    </tr>\n",
       "    <tr>\n",
       "      <th>(40, 60]</th>\n",
       "      <td>0.000000</td>\n",
       "      <td>0.000000</td>\n",
       "      <td>0.000000</td>\n",
       "    </tr>\n",
       "    <tr>\n",
       "      <th>(60, 80]</th>\n",
       "      <td>NaN</td>\n",
       "      <td>NaN</td>\n",
       "      <td>0.000000</td>\n",
       "    </tr>\n",
       "  </tbody>\n",
       "</table>\n",
       "</div>"
      ],
      "text/plain": [
       "Pclass                    1         2         3\n",
       "Embarked Age                                   \n",
       "0        (0, 20]   0.785714  0.709677  0.239130\n",
       "         (20, 40]  0.637681  0.410000  0.185841\n",
       "         (40, 60]  0.514286  0.400000  0.062500\n",
       "         (60, 80]  0.272727  0.333333  0.333333\n",
       "1        (0, 20]   0.857143  1.000000  0.619048\n",
       "         (20, 40]  0.714286  0.384615  0.279070\n",
       "         (40, 60]  0.692308       NaN  0.000000\n",
       "         (60, 80]  0.000000       NaN       NaN\n",
       "2        (0, 20]        NaN       NaN  0.400000\n",
       "         (20, 40]  1.000000  1.000000  0.389831\n",
       "         (40, 60]  0.000000  0.000000  0.000000\n",
       "         (60, 80]       NaN       NaN  0.000000"
      ]
     },
     "execution_count": 53,
     "metadata": {},
     "output_type": "execute_result"
    }
   ],
   "source": [
    "#Survival rate by Embarked, Age and Pclass\n",
    "age=pd.cut(df['Age'],[0,20,40,60,80])\n",
    "df.pivot_table('Survived',['Embarked',age],'Pclass')"
   ]
  },
  {
   "cell_type": "code",
   "execution_count": 54,
   "metadata": {},
   "outputs": [],
   "source": [
    "feature_drop=[\"PassengerId\",\"Name\",\"SibSp\",\"Parch\",\"Ticket\",\"Fare\"]\n",
    "df.drop(feature_drop,axis=1,inplace=True)"
   ]
  },
  {
   "cell_type": "code",
   "execution_count": 55,
   "metadata": {},
   "outputs": [
    {
     "data": {
      "text/plain": [
       "Survived        int64\n",
       "Pclass          int64\n",
       "Sex             int64\n",
       "Age           float64\n",
       "Cabin         float64\n",
       "Embarked        int64\n",
       "Cabin_null      int32\n",
       "Title         float64\n",
       "FamilySize    float64\n",
       "Log_Fare      float64\n",
       "dtype: object"
      ]
     },
     "execution_count": 55,
     "metadata": {},
     "output_type": "execute_result"
    }
   ],
   "source": [
    "df.dtypes"
   ]
  },
  {
   "cell_type": "code",
   "execution_count": 56,
   "metadata": {},
   "outputs": [
    {
     "data": {
      "text/plain": [
       "0      3.0\n",
       "1      5.0\n",
       "2      3.0\n",
       "3      4.0\n",
       "4      3.0\n",
       "5      3.0\n",
       "6      4.0\n",
       "7      4.0\n",
       "8      3.0\n",
       "9      4.0\n",
       "10     3.0\n",
       "11     4.0\n",
       "12     3.0\n",
       "13     4.0\n",
       "14     3.0\n",
       "15     3.0\n",
       "16     4.0\n",
       "17     3.0\n",
       "18     3.0\n",
       "19     3.0\n",
       "20     4.0\n",
       "21     3.0\n",
       "22     3.0\n",
       "23     4.0\n",
       "24     4.0\n",
       "25     4.0\n",
       "26     3.0\n",
       "27     6.0\n",
       "28     3.0\n",
       "29     3.0\n",
       "      ... \n",
       "861    3.0\n",
       "862    4.0\n",
       "863    5.0\n",
       "864    3.0\n",
       "865    3.0\n",
       "866    3.0\n",
       "867    4.0\n",
       "868    3.0\n",
       "869    3.0\n",
       "870    3.0\n",
       "871    4.0\n",
       "872    2.0\n",
       "873    3.0\n",
       "874    4.0\n",
       "875    3.0\n",
       "876    3.0\n",
       "877    3.0\n",
       "878    3.0\n",
       "879    5.0\n",
       "880    4.0\n",
       "881    3.0\n",
       "882    3.0\n",
       "883    3.0\n",
       "884    3.0\n",
       "885    4.0\n",
       "886    3.0\n",
       "887    4.0\n",
       "888    4.0\n",
       "889    4.0\n",
       "890    3.0\n",
       "Name: Log_Fare, Length: 891, dtype: float64"
      ]
     },
     "execution_count": 56,
     "metadata": {},
     "output_type": "execute_result"
    }
   ],
   "source": [
    "df[\"Log_Fare\"].apply(np.ceil)"
   ]
  },
  {
   "cell_type": "code",
   "execution_count": 57,
   "metadata": {},
   "outputs": [
    {
     "data": {
      "text/plain": [
       "Survived      0\n",
       "Pclass        0\n",
       "Sex           0\n",
       "Age           0\n",
       "Cabin         0\n",
       "Embarked      0\n",
       "Cabin_null    0\n",
       "Title         0\n",
       "FamilySize    0\n",
       "Log_Fare      0\n",
       "dtype: int64"
      ]
     },
     "execution_count": 57,
     "metadata": {},
     "output_type": "execute_result"
    }
   ],
   "source": [
    "df=df.dropna()\n",
    "df.isnull().sum()"
   ]
  },
  {
   "cell_type": "markdown",
   "metadata": {},
   "source": [
    "### Feature Selection"
   ]
  },
  {
   "cell_type": "code",
   "execution_count": 58,
   "metadata": {},
   "outputs": [
    {
     "data": {
      "text/html": [
       "<div>\n",
       "<style scoped>\n",
       "    .dataframe tbody tr th:only-of-type {\n",
       "        vertical-align: middle;\n",
       "    }\n",
       "\n",
       "    .dataframe tbody tr th {\n",
       "        vertical-align: top;\n",
       "    }\n",
       "\n",
       "    .dataframe thead th {\n",
       "        text-align: right;\n",
       "    }\n",
       "</style>\n",
       "<table border=\"1\" class=\"dataframe\">\n",
       "  <thead>\n",
       "    <tr style=\"text-align: right;\">\n",
       "      <th></th>\n",
       "      <th>Pclass</th>\n",
       "      <th>Sex</th>\n",
       "      <th>Age</th>\n",
       "      <th>Cabin</th>\n",
       "      <th>Embarked</th>\n",
       "      <th>Cabin_null</th>\n",
       "      <th>Title</th>\n",
       "      <th>FamilySize</th>\n",
       "      <th>Log_Fare</th>\n",
       "    </tr>\n",
       "  </thead>\n",
       "  <tbody>\n",
       "    <tr>\n",
       "      <th>0</th>\n",
       "      <td>3</td>\n",
       "      <td>0</td>\n",
       "      <td>22.0</td>\n",
       "      <td>2.0</td>\n",
       "      <td>0</td>\n",
       "      <td>1</td>\n",
       "      <td>8.0</td>\n",
       "      <td>0.4</td>\n",
       "      <td>2.110213</td>\n",
       "    </tr>\n",
       "    <tr>\n",
       "      <th>1</th>\n",
       "      <td>1</td>\n",
       "      <td>1</td>\n",
       "      <td>38.0</td>\n",
       "      <td>0.8</td>\n",
       "      <td>1</td>\n",
       "      <td>0</td>\n",
       "      <td>6.0</td>\n",
       "      <td>0.4</td>\n",
       "      <td>4.280593</td>\n",
       "    </tr>\n",
       "    <tr>\n",
       "      <th>2</th>\n",
       "      <td>3</td>\n",
       "      <td>1</td>\n",
       "      <td>26.0</td>\n",
       "      <td>2.0</td>\n",
       "      <td>0</td>\n",
       "      <td>1</td>\n",
       "      <td>7.0</td>\n",
       "      <td>0.0</td>\n",
       "      <td>2.188856</td>\n",
       "    </tr>\n",
       "    <tr>\n",
       "      <th>3</th>\n",
       "      <td>1</td>\n",
       "      <td>1</td>\n",
       "      <td>35.0</td>\n",
       "      <td>0.8</td>\n",
       "      <td>0</td>\n",
       "      <td>0</td>\n",
       "      <td>6.0</td>\n",
       "      <td>0.4</td>\n",
       "      <td>3.990834</td>\n",
       "    </tr>\n",
       "    <tr>\n",
       "      <th>4</th>\n",
       "      <td>3</td>\n",
       "      <td>0</td>\n",
       "      <td>35.0</td>\n",
       "      <td>2.0</td>\n",
       "      <td>0</td>\n",
       "      <td>1</td>\n",
       "      <td>8.0</td>\n",
       "      <td>0.0</td>\n",
       "      <td>2.202765</td>\n",
       "    </tr>\n",
       "  </tbody>\n",
       "</table>\n",
       "</div>"
      ],
      "text/plain": [
       "   Pclass  Sex   Age  Cabin  Embarked  Cabin_null  Title  FamilySize  Log_Fare\n",
       "0       3    0  22.0    2.0         0           1    8.0         0.4  2.110213\n",
       "1       1    1  38.0    0.8         1           0    6.0         0.4  4.280593\n",
       "2       3    1  26.0    2.0         0           1    7.0         0.0  2.188856\n",
       "3       1    1  35.0    0.8         0           0    6.0         0.4  3.990834\n",
       "4       3    0  35.0    2.0         0           1    8.0         0.0  2.202765"
      ]
     },
     "execution_count": 58,
     "metadata": {},
     "output_type": "execute_result"
    }
   ],
   "source": [
    "## univariate Feature Selection\n",
    "x=df.drop(\"Survived\",axis=1)\n",
    "y=df[\"Survived\"]\n",
    "x.head()"
   ]
  },
  {
   "cell_type": "code",
   "execution_count": 59,
   "metadata": {},
   "outputs": [
    {
     "data": {
      "text/plain": [
       "0    0\n",
       "1    1\n",
       "2    1\n",
       "3    1\n",
       "4    0\n",
       "Name: Survived, dtype: int64"
      ]
     },
     "execution_count": 59,
     "metadata": {},
     "output_type": "execute_result"
    }
   ],
   "source": [
    "y.head()"
   ]
  },
  {
   "cell_type": "code",
   "execution_count": 60,
   "metadata": {},
   "outputs": [],
   "source": [
    "from sklearn.tree import DecisionTreeClassifier\n",
    "from sklearn import tree\n",
    "from sklearn.model_selection import train_test_split\n",
    "from sklearn.metrics import classification_report\n",
    "x_train,x_test,y_train,y_test=train_test_split(x,y,random_state=1,test_size=0.3)"
   ]
  },
  {
   "cell_type": "code",
   "execution_count": 61,
   "metadata": {},
   "outputs": [],
   "source": [
    "dt=DecisionTreeClassifier(min_samples_leaf=90)\n",
    "dt.fit(x_train,y_train)\n",
    "dt_score_tr=dt.score(x_train,y_train)\n",
    "dt_score_te=dt.score(x_test,y_test)"
   ]
  },
  {
   "cell_type": "code",
   "execution_count": 62,
   "metadata": {},
   "outputs": [
    {
     "data": {
      "text/plain": [
       "0.8102893890675241"
      ]
     },
     "execution_count": 62,
     "metadata": {},
     "output_type": "execute_result"
    }
   ],
   "source": [
    "dt_score_tr"
   ]
  },
  {
   "cell_type": "code",
   "execution_count": 63,
   "metadata": {},
   "outputs": [
    {
     "data": {
      "text/plain": [
       "0.7378277153558053"
      ]
     },
     "execution_count": 63,
     "metadata": {},
     "output_type": "execute_result"
    }
   ],
   "source": [
    "dt_score_te"
   ]
  },
  {
   "cell_type": "code",
   "execution_count": 64,
   "metadata": {},
   "outputs": [
    {
     "name": "stdout",
     "output_type": "stream",
     "text": [
      "              precision    recall  f1-score   support\n",
      "\n",
      "           0       0.68      0.96      0.80       144\n",
      "           1       0.91      0.48      0.63       123\n",
      "\n",
      "    accuracy                           0.74       267\n",
      "   macro avg       0.80      0.72      0.71       267\n",
      "weighted avg       0.79      0.74      0.72       267\n",
      "\n"
     ]
    }
   ],
   "source": [
    "y_pred=dt.predict(x_test)\n",
    "print(classification_report(y_test,y_pred))"
   ]
  },
  {
   "cell_type": "code",
   "execution_count": 65,
   "metadata": {},
   "outputs": [
    {
     "data": {
      "image/png": "[encoded data removed]",
      "text/plain": [
       "<Figure size 864x864 with 1 Axes>"
      ]
     },
     "metadata": {},
     "output_type": "display_data"
    }
   ],
   "source": [
    "fig,ax=plt.subplots(figsize=(12,12))\n",
    "tree.plot_tree(dt.fit(x_train,y_train),max_depth=4,fontsize=10)\n",
    "plt.savefig(\"tree_high_dpi_titanic\",dpi=100)"
   ]
  },
  {
   "cell_type": "code",
   "execution_count": 66,
   "metadata": {},
   "outputs": [],
   "source": [
    "from sklearn.ensemble import RandomForestClassifier"
   ]
  },
  {
   "cell_type": "code",
   "execution_count": 67,
   "metadata": {},
   "outputs": [],
   "source": [
    "rf=RandomForestClassifier(n_estimators=10,max_features=8,random_state=1)"
   ]
  },
  {
   "cell_type": "code",
   "execution_count": 68,
   "metadata": {},
   "outputs": [
    {
     "name": "stdout",
     "output_type": "stream",
     "text": [
      "<class 'pandas.core.frame.DataFrame'>\n",
      "Int64Index: 622 entries, 114 to 37\n",
      "Data columns (total 9 columns):\n",
      "Pclass        622 non-null int64\n",
      "Sex           622 non-null int64\n",
      "Age           622 non-null float64\n",
      "Cabin         622 non-null float64\n",
      "Embarked      622 non-null int64\n",
      "Cabin_null    622 non-null int32\n",
      "Title         622 non-null float64\n",
      "FamilySize    622 non-null float64\n",
      "Log_Fare      622 non-null float64\n",
      "dtypes: float64(5), int32(1), int64(3)\n",
      "memory usage: 46.2 KB\n"
     ]
    }
   ],
   "source": [
    "x_train.info()"
   ]
  },
  {
   "cell_type": "code",
   "execution_count": 69,
   "metadata": {},
   "outputs": [
    {
     "data": {
      "text/plain": [
       "RandomForestClassifier(max_features=8, n_estimators=10, random_state=1)"
      ]
     },
     "execution_count": 69,
     "metadata": {},
     "output_type": "execute_result"
    }
   ],
   "source": [
    "rf.fit(x_train,y_train)"
   ]
  },
  {
   "cell_type": "code",
   "execution_count": 70,
   "metadata": {},
   "outputs": [],
   "source": [
    "y_pred=rf.predict(x_test)"
   ]
  },
  {
   "cell_type": "code",
   "execution_count": 71,
   "metadata": {},
   "outputs": [
    {
     "name": "stdout",
     "output_type": "stream",
     "text": [
      "              precision    recall  f1-score   support\n",
      "\n",
      "           0       0.71      0.88      0.79       144\n",
      "           1       0.80      0.59      0.68       123\n",
      "\n",
      "    accuracy                           0.74       267\n",
      "   macro avg       0.76      0.73      0.73       267\n",
      "weighted avg       0.75      0.74      0.73       267\n",
      "\n"
     ]
    }
   ],
   "source": [
    "print(classification_report(y_test,y_pred))"
   ]
  },
  {
   "cell_type": "code",
   "execution_count": 72,
   "metadata": {},
   "outputs": [
    {
     "name": "stdout",
     "output_type": "stream",
     "text": [
      "Learning rate:: 0.05\n",
      "Accuracy score(training):0.834\n",
      "Accuracy score(training):0.742\n",
      "Learning rate:: 0.1\n",
      "Accuracy score(training):0.849\n",
      "Accuracy score(training):0.783\n",
      "Learning rate:: 0.25\n",
      "Accuracy score(training):0.879\n",
      "Accuracy score(training):0.760\n",
      "Learning rate:: 0.5\n",
      "Accuracy score(training):0.894\n",
      "Accuracy score(training):0.775\n",
      "Learning rate:: 0.75\n",
      "Accuracy score(training):0.907\n",
      "Accuracy score(training):0.779\n",
      "Learning rate:: 1\n",
      "Accuracy score(training):0.907\n",
      "Accuracy score(training):0.764\n"
     ]
    }
   ],
   "source": [
    "from sklearn.ensemble import GradientBoostingClassifier\n",
    "learning_rates=[0.05,0.1,0.25,0.5,0.75,1]\n",
    "for i in learning_rates:\n",
    "    gb=GradientBoostingClassifier(n_estimators=20,\n",
    "                                 learning_rate=i,\n",
    "                                 max_features=8,\n",
    "                                 max_depth=2,\n",
    "                                 random_state=1)\n",
    "    gb.fit(x_train,y_train)\n",
    "    print(\"Learning rate::\",i)\n",
    "    print(\"Accuracy score(training):{0:.3f}\".format(gb.score(x_train,y_train)))\n",
    "    print(\"Accuracy score(training):{0:.3f}\".format(gb.score(x_test,y_test)))"
   ]
  },
  {
   "cell_type": "code",
   "execution_count": 73,
   "metadata": {},
   "outputs": [
    {
     "name": "stdout",
     "output_type": "stream",
     "text": [
      "              precision    recall  f1-score   support\n",
      "\n",
      "           0       0.74      0.87      0.80       144\n",
      "           1       0.81      0.64      0.71       123\n",
      "\n",
      "    accuracy                           0.76       267\n",
      "   macro avg       0.77      0.76      0.76       267\n",
      "weighted avg       0.77      0.76      0.76       267\n",
      "\n"
     ]
    }
   ],
   "source": [
    "from xgboost import XGBClassifier\n",
    "xgboost=XGBClassifier(learning_rate=0.05,\n",
    "                     n_estimators=500,\n",
    "                     max_depth=2,\n",
    "                     min_child_weight=1)\n",
    "xgboost.fit(x_train,y_train)\n",
    "y_pred=gb.predict(x_test)\n",
    "print(classification_report(y_test,y_pred))"
   ]
  },
  {
   "cell_type": "markdown",
   "metadata": {},
   "source": [
    "## Cross validation (K - Fold)"
   ]
  },
  {
   "cell_type": "code",
   "execution_count": 74,
   "metadata": {},
   "outputs": [],
   "source": [
    "from sklearn.model_selection import KFold\n",
    "from sklearn.model_selection import cross_val_score\n",
    "k_fold=KFold(n_splits=10,shuffle=True,random_state=0)"
   ]
  },
  {
   "cell_type": "markdown",
   "metadata": {},
   "source": [
    "## KNN"
   ]
  },
  {
   "cell_type": "code",
   "execution_count": 75,
   "metadata": {},
   "outputs": [
    {
     "name": "stdout",
     "output_type": "stream",
     "text": [
      "[0.79775281 0.7752809  0.7752809  0.74157303 0.69662921 0.7752809\n",
      " 0.82022472 0.80898876 0.76404494 0.80681818]\n"
     ]
    }
   ],
   "source": [
    "from sklearn.neighbors import KNeighborsClassifier\n",
    "clf=KNeighborsClassifier(n_neighbors=13)\n",
    "scoring='accuracy'\n",
    "score=cross_val_score(clf,x,y,cv=k_fold,n_jobs=1,scoring=scoring)\n",
    "print(score)"
   ]
  },
  {
   "cell_type": "code",
   "execution_count": 76,
   "metadata": {},
   "outputs": [
    {
     "data": {
      "text/plain": [
       "77.62"
      ]
     },
     "execution_count": 76,
     "metadata": {},
     "output_type": "execute_result"
    }
   ],
   "source": [
    "round(np.mean(score)*100,2)"
   ]
  },
  {
   "cell_type": "markdown",
   "metadata": {},
   "source": [
    "### random Forest Classifier"
   ]
  },
  {
   "cell_type": "code",
   "execution_count": 77,
   "metadata": {},
   "outputs": [
    {
     "name": "stdout",
     "output_type": "stream",
     "text": [
      "[0.82022472 0.80898876 0.87640449 0.84269663 0.85393258 0.78651685\n",
      " 0.88764045 0.79775281 0.75280899 0.79545455]\n"
     ]
    }
   ],
   "source": [
    "clf=RandomForestClassifier(n_estimators=13)\n",
    "scoring='accuracy'\n",
    "score=cross_val_score(clf,x,y,cv=k_fold,n_jobs=1,scoring=scoring)\n",
    "print(score)"
   ]
  },
  {
   "cell_type": "code",
   "execution_count": 78,
   "metadata": {},
   "outputs": [
    {
     "data": {
      "text/plain": [
       "82.22"
      ]
     },
     "execution_count": 78,
     "metadata": {},
     "output_type": "execute_result"
    }
   ],
   "source": [
    "round(np.mean(score)*100,2)"
   ]
  },
  {
   "cell_type": "markdown",
   "metadata": {},
   "source": [
    "### XGBoostClassifier"
   ]
  },
  {
   "cell_type": "code",
   "execution_count": 79,
   "metadata": {},
   "outputs": [
    {
     "name": "stdout",
     "output_type": "stream",
     "text": [
      "[0.86516854 0.83146067 0.85393258 0.80898876 0.82022472 0.82022472\n",
      " 0.87640449 0.82022472 0.7752809  0.82954545]\n"
     ]
    }
   ],
   "source": [
    "clf=XGBClassifier(n_estimators=13)\n",
    "scoring='accuracy'\n",
    "score=cross_val_score(clf,x,y,cv=k_fold,n_jobs=1,scoring=scoring)\n",
    "print(score)"
   ]
  },
  {
   "cell_type": "code",
   "execution_count": 80,
   "metadata": {},
   "outputs": [
    {
     "data": {
      "text/plain": [
       "83.01"
      ]
     },
     "execution_count": 80,
     "metadata": {},
     "output_type": "execute_result"
    }
   ],
   "source": [
    "round(np.mean(score)*100,2)"
   ]
  }
 ],
 "metadata": {
  "kernelspec": {
   "display_name": "Python 3",
   "language": "python",
   "name": "python3"
  },
  "language_info": {
   "codemirror_mode": {
    "name": "ipython",
    "version": 3
   },
   "file_extension": ".py",
   "mimetype": "text/x-python",
   "name": "python",
   "nbconvert_exporter": "python",
   "pygments_lexer": "ipython3",
   "version": "3.7.3"
  }
 },
 "nbformat": 4,
 "nbformat_minor": 2
}
